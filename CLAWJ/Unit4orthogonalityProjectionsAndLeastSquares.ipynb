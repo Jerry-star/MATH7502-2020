{
 "cells": [
  {
   "cell_type": "markdown",
   "metadata": {},
   "source": [
    "# Unit 4: Orthogonality, Projections, and Least Squares\n",
    "\n",
    "In this unit:\n",
    "1. Orthogonal and orthonormal vectors\n",
    "1. Orthogonal vector spaces and relations for the fundamental subspaces\n",
    "1. Grahm-Schmidt\n",
    "1. QR factorization.\n",
    "1. Projections\n",
    "1. Least Squares"
   ]
  },
  {
   "cell_type": "code",
   "execution_count": null,
   "metadata": {},
   "outputs": [],
   "source": []
  }
 ],
 "metadata": {
  "kernelspec": {
   "display_name": "JuliaPro_v1.4.2-1 1.4.2",
   "language": "julia",
   "name": "juliapro_v1.4.2-1-1.4"
  },
  "language_info": {
   "file_extension": ".jl",
   "mimetype": "application/julia",
   "name": "julia",
   "version": "1.4.2"
  }
 },
 "nbformat": 4,
 "nbformat_minor": 4
}

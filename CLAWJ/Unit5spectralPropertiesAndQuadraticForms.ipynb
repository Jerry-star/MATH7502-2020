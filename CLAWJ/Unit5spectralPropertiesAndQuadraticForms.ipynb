{
 "cells": [
  {
   "cell_type": "markdown",
   "metadata": {},
   "source": [
    "# Unit 5: Spectral Properties and Quadratic Forms\n",
    "\n",
    "In this unit:\n",
    "1. Eigenvalues and eigenvectors\n",
    "1. Diagnolization and similartiy transform\n",
    "1. Matrix powers and modes\n",
    "1. Spectral properties of symmetric matrices\n",
    "1. Quadratic forms\n",
    "1. Positive definite (semi-definite) matrices\n",
    "1. Hessians and convexity"
   ]
  },
  {
   "cell_type": "code",
   "execution_count": null,
   "metadata": {},
   "outputs": [],
   "source": []
  }
 ],
 "metadata": {
  "kernelspec": {
   "display_name": "JuliaPro_v1.4.2-1 1.4.2",
   "language": "julia",
   "name": "juliapro_v1.4.2-1-1.4"
  },
  "language_info": {
   "file_extension": ".jl",
   "mimetype": "application/julia",
   "name": "julia",
   "version": "1.4.2"
  }
 },
 "nbformat": 4,
 "nbformat_minor": 4
}

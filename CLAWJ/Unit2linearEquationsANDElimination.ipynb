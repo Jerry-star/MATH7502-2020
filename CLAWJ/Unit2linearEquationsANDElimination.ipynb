{
 "cells": [
  {
   "cell_type": "markdown",
   "metadata": {},
   "source": [
    "# Unit 2: Linear Equations and Elimination\n",
    "\n",
    "In this unit:\n",
    "1. Linear equations\n",
    "1. Gaussian elimination\n",
    "1. Pivots\n",
    "1. Rank\n",
    "1. LU factorization\n",
    "1. Taylor series expansions with Jacobians"
   ]
  },
  {
   "cell_type": "markdown",
   "metadata": {},
   "source": [
    "### Linear Equations"
   ]
  },
  {
   "cell_type": "markdown",
   "metadata": {},
   "source": [
    "$$\n",
    "\\begin{array}{rcl}\n",
    "x - 2y &=& 1\\\\\n",
    "3x + 2y &=& 11\n",
    "\\end{array}\n",
    "$$"
   ]
  },
  {
   "cell_type": "markdown",
   "metadata": {},
   "source": [
    "or\n",
    "$$\n",
    "\\begin{bmatrix}\n",
    "1 & -2 \\\\\n",
    "3 & 2\n",
    "\\end{bmatrix}\n",
    "\\begin{bmatrix}\n",
    "x \\\\\n",
    "y\n",
    "\\end{bmatrix}\n",
    "=\n",
    "\\begin{bmatrix}\n",
    "1 \\\\\n",
    "11\n",
    "\\end{bmatrix}\n",
    "$$"
   ]
  },
  {
   "cell_type": "markdown",
   "metadata": {},
   "source": [
    "Multiply first equation by $3$ and subtract from second equation:"
   ]
  },
  {
   "cell_type": "markdown",
   "metadata": {},
   "source": [
    "$$\n",
    "\\begin{array}{rcl}\n",
    "x - 2y &=& 1\\\\\n",
    " y &=& 8\n",
    "\\end{array}\n",
    "$$"
   ]
  },
  {
   "cell_type": "markdown",
   "metadata": {},
   "source": [
    "or\n",
    "$$\n",
    "\\begin{bmatrix}\n",
    "1 & -2 \\\\\n",
    "0 & 8\n",
    "\\end{bmatrix}\n",
    "\\begin{bmatrix}\n",
    "x \\\\\n",
    "y\n",
    "\\end{bmatrix}\n",
    "=\n",
    "\\begin{bmatrix}\n",
    "1 \\\\\n",
    "8\n",
    "\\end{bmatrix}\n",
    "$$"
   ]
  },
  {
   "cell_type": "markdown",
   "metadata": {},
   "source": [
    "Now $y=8$ and from this we can find $x$"
   ]
  },
  {
   "cell_type": "code",
   "execution_count": 56,
   "metadata": {},
   "outputs": [],
   "source": [
    "A = [1 -2; 3 2]; b=[1,11];"
   ]
  },
  {
   "cell_type": "code",
   "execution_count": 57,
   "metadata": {},
   "outputs": [
    {
     "data": {
      "text/plain": [
       "2×2 Array{Int64,2}:\n",
       " 1  -2\n",
       " 0   8"
      ]
     },
     "execution_count": 57,
     "metadata": {},
     "output_type": "execute_result"
    }
   ],
   "source": [
    "A2 = copy(A)\n",
    "A2[2,:] = A[2,:] - 3A[1,:];\n",
    "A2"
   ]
  },
  {
   "cell_type": "code",
   "execution_count": 47,
   "metadata": {},
   "outputs": [
    {
     "name": "stderr",
     "output_type": "stream",
     "text": [
      "\u001b[32m\u001b[1m  Resolving\u001b[22m\u001b[39m package versions...\n",
      "\u001b[32m\u001b[1m   Updating\u001b[22m\u001b[39m `~/Project.toml`\n",
      "\u001b[90m [no changes]\u001b[39m\n",
      "\u001b[32m\u001b[1m   Updating\u001b[22m\u001b[39m `~/Manifest.toml`\n",
      "\u001b[90m [no changes]\u001b[39m\n"
     ]
    }
   ],
   "source": [
    "using Pkg\n",
    "Pkg.add(\"RowEchelon\")"
   ]
  },
  {
   "cell_type": "code",
   "execution_count": 61,
   "metadata": {},
   "outputs": [],
   "source": [
    "using RowEchelon"
   ]
  },
  {
   "cell_type": "code",
   "execution_count": 62,
   "metadata": {},
   "outputs": [
    {
     "name": "stdout",
     "output_type": "stream",
     "text": [
      "search: \u001b[0m\u001b[1mr\u001b[22m\u001b[0m\u001b[1mr\u001b[22m\u001b[0m\u001b[1me\u001b[22m\u001b[0m\u001b[1mf\u001b[22m \u001b[0m\u001b[1mr\u001b[22m\u001b[0m\u001b[1mr\u001b[22m\u001b[0m\u001b[1me\u001b[22m\u001b[0m\u001b[1mf\u001b[22m! \u001b[0m\u001b[1mr\u001b[22m\u001b[0m\u001b[1mr\u001b[22m\u001b[0m\u001b[1me\u001b[22m\u001b[0m\u001b[1mf\u001b[22m_with_pivots \u001b[0m\u001b[1mr\u001b[22m\u001b[0m\u001b[1mr\u001b[22m\u001b[0m\u001b[1me\u001b[22m\u001b[0m\u001b[1mf\u001b[22m_with_pivots! sea\u001b[0m\u001b[1mr\u001b[22mchso\u001b[0m\u001b[1mr\u001b[22mt\u001b[0m\u001b[1me\u001b[22md\u001b[0m\u001b[1mf\u001b[22mirst\n",
      "\n"
     ]
    },
    {
     "data": {
      "text/latex": [
       "\\begin{verbatim}\n",
       "rref(A)\n",
       "\\end{verbatim}\n",
       "Compute the reduced row echelon form of the matrix A. Since this algorithm is sensitive to numerical imprecision,\n",
       "\n",
       "\\begin{itemize}\n",
       "\\item Complex numbers are converted to ComplexF64\n",
       "\n",
       "\n",
       "\\item Integer, Float16 and Float32 numbers are converted to Float64\n",
       "\n",
       "\n",
       "\\item Rational are kept unchanged\n",
       "\n",
       "\\end{itemize}\n",
       "\\begin{verbatim}\n",
       "julia> rref([ 1  2 -1  -4;\n",
       "              2  3 -1 -11;\n",
       "             -2  0 -3  22])\n",
       "3×4 Array{Float64,2}:\n",
       " 1.0  0.0  0.0  -8.0\n",
       " 0.0  1.0  0.0   1.0\n",
       " 0.0  0.0  1.0  -2.0\n",
       "\n",
       "julia> rref([16  2  3  13;\n",
       "              5 11 10   8;\n",
       "              9  7  6  12;\n",
       "              4 14 15   1])\n",
       "4×4 Array{Float64,2}:\n",
       " 1.0  0.0  0.0   1.0\n",
       " 0.0  1.0  0.0   3.0\n",
       " 0.0  0.0  1.0  -3.0\n",
       " 0.0  0.0  0.0   0.0\n",
       "\n",
       "julia> rref([ 1  2  0   3;\n",
       "              2  4  0   7])\n",
       "2×4 Array{Float64,2}:\n",
       " 1.0  2.0  0.0  0.0\n",
       " 0.0  0.0  0.0  1.0\n",
       "\\end{verbatim}\n"
      ],
      "text/markdown": [
       "```\n",
       "rref(A)\n",
       "```\n",
       "\n",
       "Compute the reduced row echelon form of the matrix A. Since this algorithm is sensitive to numerical imprecision,\n",
       "\n",
       "  * Complex numbers are converted to ComplexF64\n",
       "  * Integer, Float16 and Float32 numbers are converted to Float64\n",
       "  * Rational are kept unchanged\n",
       "\n",
       "```jldoctest\n",
       "julia> rref([ 1  2 -1  -4;\n",
       "              2  3 -1 -11;\n",
       "             -2  0 -3  22])\n",
       "3×4 Array{Float64,2}:\n",
       " 1.0  0.0  0.0  -8.0\n",
       " 0.0  1.0  0.0   1.0\n",
       " 0.0  0.0  1.0  -2.0\n",
       "\n",
       "julia> rref([16  2  3  13;\n",
       "              5 11 10   8;\n",
       "              9  7  6  12;\n",
       "              4 14 15   1])\n",
       "4×4 Array{Float64,2}:\n",
       " 1.0  0.0  0.0   1.0\n",
       " 0.0  1.0  0.0   3.0\n",
       " 0.0  0.0  1.0  -3.0\n",
       " 0.0  0.0  0.0   0.0\n",
       "\n",
       "julia> rref([ 1  2  0   3;\n",
       "              2  4  0   7])\n",
       "2×4 Array{Float64,2}:\n",
       " 1.0  2.0  0.0  0.0\n",
       " 0.0  0.0  0.0  1.0\n",
       "```\n"
      ],
      "text/plain": [
       "\u001b[36m  rref(A)\u001b[39m\n",
       "\n",
       "  Compute the reduced row echelon form of the matrix A. Since this algorithm\n",
       "  is sensitive to numerical imprecision,\n",
       "\n",
       "    •    Complex numbers are converted to ComplexF64\n",
       "\n",
       "    •    Integer, Float16 and Float32 numbers are converted to Float64\n",
       "\n",
       "    •    Rational are kept unchanged\n",
       "\n",
       "\u001b[36m  julia> rref([ 1  2 -1  -4;\u001b[39m\n",
       "\u001b[36m                2  3 -1 -11;\u001b[39m\n",
       "\u001b[36m               -2  0 -3  22])\u001b[39m\n",
       "\u001b[36m  3×4 Array{Float64,2}:\u001b[39m\n",
       "\u001b[36m   1.0  0.0  0.0  -8.0\u001b[39m\n",
       "\u001b[36m   0.0  1.0  0.0   1.0\u001b[39m\n",
       "\u001b[36m   0.0  0.0  1.0  -2.0\u001b[39m\n",
       "\u001b[36m  \u001b[39m\n",
       "\u001b[36m  julia> rref([16  2  3  13;\u001b[39m\n",
       "\u001b[36m                5 11 10   8;\u001b[39m\n",
       "\u001b[36m                9  7  6  12;\u001b[39m\n",
       "\u001b[36m                4 14 15   1])\u001b[39m\n",
       "\u001b[36m  4×4 Array{Float64,2}:\u001b[39m\n",
       "\u001b[36m   1.0  0.0  0.0   1.0\u001b[39m\n",
       "\u001b[36m   0.0  1.0  0.0   3.0\u001b[39m\n",
       "\u001b[36m   0.0  0.0  1.0  -3.0\u001b[39m\n",
       "\u001b[36m   0.0  0.0  0.0   0.0\u001b[39m\n",
       "\u001b[36m  \u001b[39m\n",
       "\u001b[36m  julia> rref([ 1  2  0   3;\u001b[39m\n",
       "\u001b[36m                2  4  0   7])\u001b[39m\n",
       "\u001b[36m  2×4 Array{Float64,2}:\u001b[39m\n",
       "\u001b[36m   1.0  2.0  0.0  0.0\u001b[39m\n",
       "\u001b[36m   0.0  0.0  0.0  1.0\u001b[39m"
      ]
     },
     "execution_count": 62,
     "metadata": {},
     "output_type": "execute_result"
    }
   ],
   "source": [
    "? rref"
   ]
  },
  {
   "cell_type": "code",
   "execution_count": 64,
   "metadata": {},
   "outputs": [
    {
     "data": {
      "text/plain": [
       "2×4 Array{Int64,2}:\n",
       " 1  -2  1  0\n",
       " 3   2  0  1"
      ]
     },
     "execution_count": 64,
     "metadata": {},
     "output_type": "execute_result"
    }
   ],
   "source": [
    "[A I]"
   ]
  },
  {
   "cell_type": "code",
   "execution_count": 65,
   "metadata": {},
   "outputs": [
    {
     "data": {
      "text/plain": [
       "2×4 Array{Float64,2}:\n",
       " 1.0  0.0   0.25   0.25\n",
       " 0.0  1.0  -0.375  0.125"
      ]
     },
     "execution_count": 65,
     "metadata": {},
     "output_type": "execute_result"
    }
   ],
   "source": [
    "rref([A I])"
   ]
  },
  {
   "cell_type": "code",
   "execution_count": 66,
   "metadata": {},
   "outputs": [
    {
     "data": {
      "text/plain": [
       "2×2 Array{Float64,2}:\n",
       "  0.25   0.25\n",
       " -0.375  0.125"
      ]
     },
     "execution_count": 66,
     "metadata": {},
     "output_type": "execute_result"
    }
   ],
   "source": [
    "inv(A)"
   ]
  },
  {
   "cell_type": "code",
   "execution_count": 63,
   "metadata": {},
   "outputs": [
    {
     "data": {
      "text/plain": [
       "2×2 Array{Int64,2}:\n",
       " 1  2\n",
       " 3  4"
      ]
     },
     "execution_count": 63,
     "metadata": {},
     "output_type": "execute_result"
    }
   ],
   "source": [
    "A"
   ]
  }
 ],
 "metadata": {
  "@webio": {
   "lastCommId": null,
   "lastKernelId": null
  },
  "kernelspec": {
   "display_name": "Julia 1.4.2",
   "language": "julia",
   "name": "julia-1.4"
  },
  "language_info": {
   "file_extension": ".jl",
   "mimetype": "application/julia",
   "name": "julia",
   "version": "1.4.2"
  }
 },
 "nbformat": 4,
 "nbformat_minor": 2
}
